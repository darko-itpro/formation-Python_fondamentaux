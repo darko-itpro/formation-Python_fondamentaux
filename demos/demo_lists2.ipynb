{
 "cells": [
  {
   "metadata": {},
   "cell_type": "markdown",
   "source": [
    "# Les boucles (un peu plus)\n",
    "\n",
    "## Les List Comprehension"
   ],
   "id": "ee0e163f46a86acf"
  },
  {
   "metadata": {
    "collapsed": true,
    "ExecuteTime": {
     "end_time": "2025-09-25T09:06:49.572065Z",
     "start_time": "2025-09-25T09:06:49.569142Z"
    }
   },
   "cell_type": "code",
   "source": [
    "camelot = [(\"Arthur\", \"king\"), (\"Merlin\", \"wizard\"),\n",
    "           (\"Lancelot\", \"knight\"), (\"Robin\", \"knight\"),\n",
    "           (\"Perceval\", \"knight\"), (\"Karadoc\", \"knight\")]"
   ],
   "id": "8563e6adf74b3529",
   "outputs": [],
   "execution_count": 1
  },
  {
   "metadata": {
    "ExecuteTime": {
     "end_time": "2025-09-25T09:07:29.972729Z",
     "start_time": "2025-09-25T09:07:29.968563Z"
    }
   },
   "cell_type": "code",
   "source": "[item[0] for item in camelot]",
   "id": "2166de7ad6505c0d",
   "outputs": [
    {
     "data": {
      "text/plain": [
       "['Arthur', 'Merlin', 'Lancelot', 'Robin', 'Perceval', 'Karadoc']"
      ]
     },
     "execution_count": 2,
     "metadata": {},
     "output_type": "execute_result"
    }
   ],
   "execution_count": 2
  },
  {
   "metadata": {
    "ExecuteTime": {
     "end_time": "2025-09-25T09:08:54.291758Z",
     "start_time": "2025-09-25T09:08:54.289417Z"
    }
   },
   "cell_type": "code",
   "source": "[item for item in camelot if item[1] != \"wizard\"]",
   "id": "d33014916627a833",
   "outputs": [
    {
     "data": {
      "text/plain": [
       "[('Arthur', 'king'),\n",
       " ('Lancelot', 'knight'),\n",
       " ('Robin', 'knight'),\n",
       " ('Perceval', 'knight'),\n",
       " ('Karadoc', 'knight')]"
      ]
     },
     "execution_count": 3,
     "metadata": {},
     "output_type": "execute_result"
    }
   ],
   "execution_count": 3
  },
  {
   "metadata": {},
   "cell_type": "code",
   "outputs": [],
   "execution_count": null,
   "source": [
    "[name\n",
    " for name, job in camelot\n",
    " if job != \"wizard\"]"
   ],
   "id": "fc04f0bea39b562"
  },
  {
   "metadata": {},
   "cell_type": "markdown",
   "source": "## Générateurs",
   "id": "4a3c26acd2213258"
  },
  {
   "metadata": {
    "ExecuteTime": {
     "end_time": "2025-09-25T09:13:18.078983Z",
     "start_time": "2025-09-25T09:13:18.077001Z"
    }
   },
   "cell_type": "code",
   "source": "my_gen = (item[0] for item in camelot)",
   "id": "e50661ca35c1b0c5",
   "outputs": [],
   "execution_count": 6
  },
  {
   "metadata": {
    "ExecuteTime": {
     "end_time": "2025-09-25T09:13:23.634983Z",
     "start_time": "2025-09-25T09:13:23.633442Z"
    }
   },
   "cell_type": "code",
   "source": [
    "for item in my_gen:\n",
    "    print(item)"
   ],
   "id": "9aa3ede8d80e6410",
   "outputs": [],
   "execution_count": 8
  },
  {
   "metadata": {
    "ExecuteTime": {
     "end_time": "2025-09-25T09:23:14.764659Z",
     "start_time": "2025-09-25T09:23:14.762912Z"
    }
   },
   "cell_type": "code",
   "source": [
    "def func(kingdom:list):\n",
    "    for item in kingdom:\n",
    "        yield item[0]\n",
    "    print(\"done\")"
   ],
   "id": "8b7500856874c155",
   "outputs": [],
   "execution_count": 25
  },
  {
   "metadata": {
    "ExecuteTime": {
     "end_time": "2025-09-25T09:23:16.283659Z",
     "start_time": "2025-09-25T09:23:16.281230Z"
    }
   },
   "cell_type": "code",
   "source": "f = func(camelot)",
   "id": "186790ce56dcb3c4",
   "outputs": [],
   "execution_count": 26
  },
  {
   "metadata": {
    "ExecuteTime": {
     "end_time": "2025-09-25T09:23:21.000938Z",
     "start_time": "2025-09-25T09:23:20.998771Z"
    }
   },
   "cell_type": "code",
   "source": "next(f)",
   "id": "e4236af2f9f28bb",
   "outputs": [
    {
     "data": {
      "text/plain": [
       "'Arthur'"
      ]
     },
     "execution_count": 27,
     "metadata": {},
     "output_type": "execute_result"
    }
   ],
   "execution_count": 27
  },
  {
   "metadata": {
    "ExecuteTime": {
     "end_time": "2025-09-25T09:23:21.694830Z",
     "start_time": "2025-09-25T09:23:21.693056Z"
    }
   },
   "cell_type": "code",
   "source": [
    "for i in f:\n",
    "    print(i)"
   ],
   "id": "23f26966be0fe561",
   "outputs": [
    {
     "name": "stdout",
     "output_type": "stream",
     "text": [
      "Merlin\n",
      "Lancelot\n",
      "Robin\n",
      "Perceval\n",
      "Karadoc\n",
      "done\n"
     ]
    }
   ],
   "execution_count": 28
  },
  {
   "metadata": {
    "ExecuteTime": {
     "end_time": "2025-09-25T09:25:03.639617Z",
     "start_time": "2025-09-25T09:25:03.637561Z"
    }
   },
   "cell_type": "code",
   "source": [
    "def click():\n",
    "    value = 0\n",
    "    while True:\n",
    "        value += 1\n",
    "        yield value"
   ],
   "id": "e310098096f7e7b4",
   "outputs": [],
   "execution_count": 30
  },
  {
   "metadata": {
    "ExecuteTime": {
     "end_time": "2025-09-25T09:25:07.857729Z",
     "start_time": "2025-09-25T09:25:07.855444Z"
    }
   },
   "cell_type": "code",
   "source": "c = click()",
   "id": "950c9bb0fe6243e",
   "outputs": [],
   "execution_count": 31
  },
  {
   "metadata": {
    "ExecuteTime": {
     "end_time": "2025-09-25T09:25:17.219279Z",
     "start_time": "2025-09-25T09:25:17.215779Z"
    }
   },
   "cell_type": "code",
   "source": "next(c)",
   "id": "1e03f8af10f71819",
   "outputs": [
    {
     "data": {
      "text/plain": [
       "4"
      ]
     },
     "execution_count": 35,
     "metadata": {},
     "output_type": "execute_result"
    }
   ],
   "execution_count": 35
  },
  {
   "metadata": {
    "ExecuteTime": {
     "end_time": "2025-09-25T09:25:51.505441Z",
     "start_time": "2025-09-25T09:25:51.503331Z"
    }
   },
   "cell_type": "code",
   "source": [
    "def lunch():\n",
    "    yield \"entrée\"\n",
    "    yield \"plat\"\n",
    "    yield \"dessert\"\n",
    "    yield \"café ou thé\""
   ],
   "id": "d494688614df5f8b",
   "outputs": [],
   "execution_count": 36
  },
  {
   "metadata": {
    "ExecuteTime": {
     "end_time": "2025-09-25T09:26:08.822215Z",
     "start_time": "2025-09-25T09:26:08.820561Z"
    }
   },
   "cell_type": "code",
   "source": "l = lunch()\n",
   "id": "1da9dde0e12894f",
   "outputs": [],
   "execution_count": 37
  },
  {
   "metadata": {
    "ExecuteTime": {
     "end_time": "2025-09-25T09:26:16.753269Z",
     "start_time": "2025-09-25T09:26:16.749437Z"
    }
   },
   "cell_type": "code",
   "source": "next(l)",
   "id": "1fb97226e55c1c8b",
   "outputs": [
    {
     "data": {
      "text/plain": [
       "'dessert'"
      ]
     },
     "execution_count": 40,
     "metadata": {},
     "output_type": "execute_result"
    }
   ],
   "execution_count": 40
  }
 ],
 "metadata": {
  "kernelspec": {
   "display_name": "Python 3",
   "language": "python",
   "name": "python3"
  },
  "language_info": {
   "codemirror_mode": {
    "name": "ipython",
    "version": 2
   },
   "file_extension": ".py",
   "mimetype": "text/x-python",
   "name": "python",
   "nbconvert_exporter": "python",
   "pygments_lexer": "ipython2",
   "version": "2.7.6"
  }
 },
 "nbformat": 4,
 "nbformat_minor": 5
}
