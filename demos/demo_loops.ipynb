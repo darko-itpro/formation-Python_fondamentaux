{
 "cells": [
  {
   "metadata": {},
   "cell_type": "markdown",
   "source": "# Boucles",
   "id": "f0534a32d0d01c1e"
  },
  {
   "cell_type": "code",
   "id": "initial_id",
   "metadata": {
    "collapsed": true,
    "ExecuteTime": {
     "end_time": "2025-09-24T14:05:18.125583Z",
     "start_time": "2025-09-24T14:05:18.121919Z"
    }
   },
   "source": "camelot = [\"Arthur\", \"Merlin\", \"Lancelot\", \"Robin\", \"Perceval\", \"Karadoc\"]",
   "outputs": [],
   "execution_count": 1
  },
  {
   "metadata": {
    "ExecuteTime": {
     "end_time": "2025-09-24T14:06:12.931082Z",
     "start_time": "2025-09-24T14:06:12.929266Z"
    }
   },
   "cell_type": "code",
   "source": [
    "for knight in camelot:\n",
    "    print(\"-\", knight)"
   ],
   "id": "a862599bc0ec599",
   "outputs": [
    {
     "name": "stdout",
     "output_type": "stream",
     "text": [
      "- Arthur\n",
      "- Merlin\n",
      "- Lancelot\n",
      "- Robin\n",
      "- Perceval\n",
      "- Karadoc\n"
     ]
    }
   ],
   "execution_count": 3
  },
  {
   "metadata": {
    "ExecuteTime": {
     "end_time": "2025-09-24T14:08:16.310113Z",
     "start_time": "2025-09-24T14:08:16.307900Z"
    }
   },
   "cell_type": "code",
   "source": [
    "for index, knight in enumerate(camelot):\n",
    "    if index % 2:\n",
    "        print(\">\", knight)\n",
    "    else:\n",
    "        print(\"<\", knight)"
   ],
   "id": "4afecca916a7d453",
   "outputs": [
    {
     "name": "stdout",
     "output_type": "stream",
     "text": [
      "< Arthur\n",
      "> Merlin\n",
      "< Lancelot\n",
      "> Robin\n",
      "< Perceval\n",
      "> Karadoc\n"
     ]
    }
   ],
   "execution_count": 5
  },
  {
   "metadata": {
    "ExecuteTime": {
     "end_time": "2025-09-24T14:09:39.722590Z",
     "start_time": "2025-09-24T14:09:39.720732Z"
    }
   },
   "cell_type": "code",
   "source": [
    "for _ in range(4):\n",
    "    print(\"turn right\")"
   ],
   "id": "60bbf48f4b8bc520",
   "outputs": [
    {
     "name": "stdout",
     "output_type": "stream",
     "text": [
      "turn right\n",
      "turn right\n",
      "turn right\n",
      "turn right\n"
     ]
    }
   ],
   "execution_count": 6
  },
  {
   "metadata": {},
   "cell_type": "code",
   "outputs": [],
   "execution_count": null,
   "source": "",
   "id": "8c9e4dcad8da33c1"
  },
  {
   "metadata": {
    "ExecuteTime": {
     "end_time": "2025-09-24T14:22:01.539865Z",
     "start_time": "2025-09-24T14:22:01.537886Z"
    }
   },
   "cell_type": "code",
   "source": [
    "value = 1\n",
    "previous = 1\n",
    "\n",
    "while value < 5000:\n",
    "\n",
    "    print(value/previous)\n",
    "    previous, value = value, value + previous"
   ],
   "id": "11c3c984e5233e7",
   "outputs": [
    {
     "name": "stdout",
     "output_type": "stream",
     "text": [
      "1.0\n",
      "2.0\n",
      "1.5\n",
      "1.6666666666666667\n",
      "1.6\n",
      "1.625\n",
      "1.6153846153846154\n",
      "1.619047619047619\n",
      "1.6176470588235294\n",
      "1.6181818181818182\n",
      "1.6179775280898876\n",
      "1.6180555555555556\n",
      "1.6180257510729614\n",
      "1.6180371352785146\n",
      "1.618032786885246\n",
      "1.618034447821682\n",
      "1.6180338134001253\n",
      "1.618034055727554\n"
     ]
    }
   ],
   "execution_count": 11
  },
  {
   "metadata": {},
   "cell_type": "code",
   "outputs": [],
   "execution_count": null,
   "source": "\n",
   "id": "214a2b067e1904dc"
  },
  {
   "metadata": {},
   "cell_type": "code",
   "outputs": [],
   "execution_count": null,
   "source": "",
   "id": "bcf509912fea4805"
  },
  {
   "metadata": {
    "ExecuteTime": {
     "end_time": "2025-09-24T14:29:27.624672Z",
     "start_time": "2025-09-24T14:29:27.622336Z"
    }
   },
   "cell_type": "code",
   "source": [
    "camelot = [(\"Arthur\", \"king\"), (\"Merlin\", \"wizard\"),\n",
    "           (\"Lancelot\", \"knight\"), (\"Robin\", \"knight\"),\n",
    "           (\"Perceval\", \"knight\"), (\"Karadoc\", \"knight\")]\n"
   ],
   "id": "6be50b98d6e003eb",
   "outputs": [],
   "execution_count": 12
  },
  {
   "metadata": {
    "ExecuteTime": {
     "end_time": "2025-09-24T14:30:55.972944Z",
     "start_time": "2025-09-24T14:30:55.971068Z"
    }
   },
   "cell_type": "code",
   "source": [
    "for name, job in camelot:\n",
    "    print(\"Hail\", name)\n",
    "    if job == \"wizard\":\n",
    "        continue\n",
    "    print('he is a mighty knight')"
   ],
   "id": "1b4bbb134e4f0a0a",
   "outputs": [
    {
     "name": "stdout",
     "output_type": "stream",
     "text": [
      "Hail Arthur\n",
      "he is a mighty knight\n",
      "Hail Merlin\n",
      "Hail Lancelot\n",
      "he is a mighty knight\n",
      "Hail Robin\n",
      "he is a mighty knight\n",
      "Hail Perceval\n",
      "he is a mighty knight\n",
      "Hail Karadoc\n",
      "he is a mighty knight\n"
     ]
    }
   ],
   "execution_count": 15
  },
  {
   "metadata": {
    "ExecuteTime": {
     "end_time": "2025-09-24T14:37:05.159215Z",
     "start_time": "2025-09-24T14:37:05.156933Z"
    }
   },
   "cell_type": "code",
   "source": [
    "for name, job in camelot:\n",
    "    print(name)\n",
    "    if job == \"wiard\":\n",
    "        print('ok you have a wizard')\n",
    "        break\n",
    "else:\n",
    "    print('you need a wizard')"
   ],
   "id": "2ca9c77128055f75",
   "outputs": [
    {
     "name": "stdout",
     "output_type": "stream",
     "text": [
      "Arthur\n",
      "Merlin\n",
      "Lancelot\n",
      "Robin\n",
      "Perceval\n",
      "Karadoc\n",
      "you need a wizard\n"
     ]
    }
   ],
   "execution_count": 23
  },
  {
   "metadata": {},
   "cell_type": "code",
   "outputs": [],
   "execution_count": null,
   "source": "",
   "id": "52a7184bf5bfdd93"
  }
 ],
 "metadata": {
  "kernelspec": {
   "display_name": "Python 3",
   "language": "python",
   "name": "python3"
  },
  "language_info": {
   "codemirror_mode": {
    "name": "ipython",
    "version": 2
   },
   "file_extension": ".py",
   "mimetype": "text/x-python",
   "name": "python",
   "nbconvert_exporter": "python",
   "pygments_lexer": "ipython2",
   "version": "2.7.6"
  }
 },
 "nbformat": 4,
 "nbformat_minor": 5
}
