{
 "cells": [
  {
   "metadata": {},
   "cell_type": "markdown",
   "source": "# Fonctions",
   "id": "21e28456cce0537e"
  },
  {
   "cell_type": "code",
   "id": "initial_id",
   "metadata": {
    "collapsed": true,
    "ExecuteTime": {
     "end_time": "2025-09-23T08:33:23.020753Z",
     "start_time": "2025-09-23T08:33:23.018464Z"
    }
   },
   "source": [
    "def say_hello():\n",
    "    print(\"Hello, Efficacity!\")\n",
    "    print(\"Have a nice day\")"
   ],
   "outputs": [],
   "execution_count": 13
  },
  {
   "metadata": {
    "ExecuteTime": {
     "end_time": "2025-09-23T08:33:27.776386Z",
     "start_time": "2025-09-23T08:33:27.774485Z"
    }
   },
   "cell_type": "code",
   "source": "print(say_hello())",
   "id": "8de45bd977f27831",
   "outputs": [
    {
     "name": "stdout",
     "output_type": "stream",
     "text": [
      "Hello, Efficacity!\n",
      "Have a nice day\n",
      "None\n"
     ]
    }
   ],
   "execution_count": 14
  },
  {
   "metadata": {
    "ExecuteTime": {
     "end_time": "2025-09-23T08:40:07.437906Z",
     "start_time": "2025-09-23T08:40:07.435901Z"
    }
   },
   "cell_type": "code",
   "source": [
    "def give_hello():\n",
    "    value = \"Give hello\"\n",
    "    return value"
   ],
   "id": "a978ea67a069faba",
   "outputs": [],
   "execution_count": 17
  },
  {
   "metadata": {
    "ExecuteTime": {
     "end_time": "2025-09-23T08:40:07.772619Z",
     "start_time": "2025-09-23T08:40:07.769380Z"
    }
   },
   "cell_type": "code",
   "source": "print(give_hello())",
   "id": "e56c3f96179bb6df",
   "outputs": [
    {
     "name": "stdout",
     "output_type": "stream",
     "text": [
      "Give hello\n"
     ]
    }
   ],
   "execution_count": 18
  },
  {
   "metadata": {
    "ExecuteTime": {
     "end_time": "2025-09-23T08:40:48.723946Z",
     "start_time": "2025-09-23T08:40:48.722197Z"
    }
   },
   "cell_type": "code",
   "source": [
    "def say_hello_to(name:str):\n",
    "    print(\"Hello\", name)\n"
   ],
   "id": "fceef50a2e4db83",
   "outputs": [],
   "execution_count": 19
  },
  {
   "metadata": {
    "ExecuteTime": {
     "end_time": "2025-09-23T08:41:28.857289Z",
     "start_time": "2025-09-23T08:41:28.855449Z"
    }
   },
   "cell_type": "code",
   "source": "say_hello_to(\"Efficacity\")",
   "id": "50343f4a0fe1dec3",
   "outputs": [
    {
     "name": "stdout",
     "output_type": "stream",
     "text": [
      "Hello Efficacity\n"
     ]
    }
   ],
   "execution_count": 22
  },
  {
   "metadata": {},
   "cell_type": "code",
   "outputs": [],
   "execution_count": null,
   "source": "",
   "id": "aca051a13d207116"
  },
  {
   "metadata": {},
   "cell_type": "markdown",
   "source": "## Visibilité",
   "id": "168209545ab4a5b6"
  },
  {
   "metadata": {
    "ExecuteTime": {
     "end_time": "2025-09-24T10:19:58.485561Z",
     "start_time": "2025-09-24T10:19:58.483707Z"
    }
   },
   "cell_type": "code",
   "source": [
    "i = 10\n",
    "def func():\n",
    "    global i\n",
    "    i = i + 1\n",
    "    print(i)"
   ],
   "id": "4e6ab0f32bd3531",
   "outputs": [],
   "execution_count": 11
  },
  {
   "metadata": {
    "ExecuteTime": {
     "end_time": "2025-09-24T10:19:58.696358Z",
     "start_time": "2025-09-24T10:19:58.694441Z"
    }
   },
   "cell_type": "code",
   "source": "func()",
   "id": "17210e64038d4ff0",
   "outputs": [
    {
     "name": "stdout",
     "output_type": "stream",
     "text": [
      "11\n"
     ]
    }
   ],
   "execution_count": 12
  },
  {
   "metadata": {
    "ExecuteTime": {
     "end_time": "2025-09-24T10:19:59.573790Z",
     "start_time": "2025-09-24T10:19:59.571585Z"
    }
   },
   "cell_type": "code",
   "source": "i",
   "id": "63d6e86b866d7a30",
   "outputs": [
    {
     "data": {
      "text/plain": [
       "11"
      ]
     },
     "execution_count": 13,
     "metadata": {},
     "output_type": "execute_result"
    }
   ],
   "execution_count": 13
  },
  {
   "metadata": {},
   "cell_type": "code",
   "outputs": [],
   "execution_count": null,
   "source": "",
   "id": "b65f16beb19d4605"
  },
  {
   "metadata": {},
   "cell_type": "markdown",
   "source": "",
   "id": "77778e9817e54e1"
  },
  {
   "metadata": {
    "ExecuteTime": {
     "end_time": "2025-09-24T10:22:57.942946Z",
     "start_time": "2025-09-24T10:22:57.941151Z"
    }
   },
   "cell_type": "code",
   "source": [
    "kingdom = []\n",
    "\n",
    "def add_knight(name):\n",
    "    kingdom.append(name)"
   ],
   "id": "18f478faf3403d2a",
   "outputs": [],
   "execution_count": 14
  },
  {
   "metadata": {
    "ExecuteTime": {
     "end_time": "2025-09-24T10:23:26.676245Z",
     "start_time": "2025-09-24T10:23:26.673932Z"
    }
   },
   "cell_type": "code",
   "source": [
    "add_knight(\"Lancelot\")\n",
    "kingdom"
   ],
   "id": "bf0a7f5ebbaf152b",
   "outputs": [
    {
     "data": {
      "text/plain": [
       "['Lancelot']"
      ]
     },
     "execution_count": 15,
     "metadata": {},
     "output_type": "execute_result"
    }
   ],
   "execution_count": 15
  },
  {
   "metadata": {},
   "cell_type": "code",
   "outputs": [],
   "execution_count": null,
   "source": "",
   "id": "7be3a71b277badaf"
  },
  {
   "metadata": {},
   "cell_type": "code",
   "outputs": [],
   "execution_count": null,
   "source": [
    "def say_hello(who: str = \"World\"):\n",
    "    print(\"Hello,\", who)"
   ],
   "id": "be7fb07d25de3a"
  },
  {
   "metadata": {
    "ExecuteTime": {
     "end_time": "2025-09-24T12:16:44.216416Z",
     "start_time": "2025-09-24T12:16:44.214671Z"
    }
   },
   "cell_type": "code",
   "source": [
    "def create_account(myid:str, /, *, value:float=100, overdraft:bool=False):\n",
    "    print(myid, value, overdraft)"
   ],
   "id": "b940c22ef0d425f7",
   "outputs": [],
   "execution_count": 14
  },
  {
   "metadata": {
    "ExecuteTime": {
     "end_time": "2025-09-24T12:13:17.059337Z",
     "start_time": "2025-09-24T12:13:17.045141Z"
    }
   },
   "cell_type": "code",
   "source": "create_account(\"my id\", 10_000_000_000_000, True)",
   "id": "88882dcf215ee049",
   "outputs": [
    {
     "ename": "TypeError",
     "evalue": "create_account() takes 1 positional argument but 3 were given",
     "output_type": "error",
     "traceback": [
      "\u001B[31m---------------------------------------------------------------------------\u001B[39m",
      "\u001B[31mTypeError\u001B[39m                                 Traceback (most recent call last)",
      "\u001B[36mCell\u001B[39m\u001B[36m \u001B[39m\u001B[32mIn[12]\u001B[39m\u001B[32m, line 1\u001B[39m\n\u001B[32m----> \u001B[39m\u001B[32m1\u001B[39m \u001B[43mcreate_account\u001B[49m\u001B[43m(\u001B[49m\u001B[33;43m\"\u001B[39;49m\u001B[33;43mmy id\u001B[39;49m\u001B[33;43m\"\u001B[39;49m\u001B[43m,\u001B[49m\u001B[43m \u001B[49m\u001B[32;43m10_000_000_000_000\u001B[39;49m\u001B[43m,\u001B[49m\u001B[43m \u001B[49m\u001B[38;5;28;43;01mTrue\u001B[39;49;00m\u001B[43m)\u001B[49m\n",
      "\u001B[31mTypeError\u001B[39m: create_account() takes 1 positional argument but 3 were given"
     ]
    }
   ],
   "execution_count": 12
  },
  {
   "metadata": {
    "ExecuteTime": {
     "end_time": "2025-09-24T12:06:35.787292Z",
     "start_time": "2025-09-24T12:06:35.694071Z"
    }
   },
   "cell_type": "code",
   "source": "create_account(myid=\"my id\", value=True)",
   "id": "4e08e7967836014e",
   "outputs": [
    {
     "ename": "TypeError",
     "evalue": "create_account() got some positional-only arguments passed as keyword arguments: 'myid'",
     "output_type": "error",
     "traceback": [
      "\u001B[31m---------------------------------------------------------------------------\u001B[39m",
      "\u001B[31mTypeError\u001B[39m                                 Traceback (most recent call last)",
      "\u001B[36mCell\u001B[39m\u001B[36m \u001B[39m\u001B[32mIn[10]\u001B[39m\u001B[32m, line 1\u001B[39m\n\u001B[32m----> \u001B[39m\u001B[32m1\u001B[39m \u001B[43mcreate_account\u001B[49m\u001B[43m(\u001B[49m\u001B[43mmyid\u001B[49m\u001B[43m=\u001B[49m\u001B[33;43m\"\u001B[39;49m\u001B[33;43mmy id\u001B[39;49m\u001B[33;43m\"\u001B[39;49m\u001B[43m,\u001B[49m\u001B[43m \u001B[49m\u001B[43mvalue\u001B[49m\u001B[43m=\u001B[49m\u001B[38;5;28;43;01mTrue\u001B[39;49;00m\u001B[43m)\u001B[49m\n",
      "\u001B[31mTypeError\u001B[39m: create_account() got some positional-only arguments passed as keyword arguments: 'myid'"
     ]
    }
   ],
   "execution_count": 10
  },
  {
   "metadata": {},
   "cell_type": "code",
   "outputs": [],
   "execution_count": null,
   "source": "",
   "id": "103704872c37e011"
  }
 ],
 "metadata": {
  "kernelspec": {
   "display_name": "Python 3",
   "language": "python",
   "name": "python3"
  },
  "language_info": {
   "codemirror_mode": {
    "name": "ipython",
    "version": 2
   },
   "file_extension": ".py",
   "mimetype": "text/x-python",
   "name": "python",
   "nbconvert_exporter": "python",
   "pygments_lexer": "ipython2",
   "version": "2.7.6"
  }
 },
 "nbformat": 4,
 "nbformat_minor": 5
}
