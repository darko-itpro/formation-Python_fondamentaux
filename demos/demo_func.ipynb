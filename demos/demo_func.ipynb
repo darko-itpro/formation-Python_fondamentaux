{
 "cells": [
  {
   "metadata": {},
   "cell_type": "markdown",
   "source": "# Fonctions",
   "id": "21e28456cce0537e"
  },
  {
   "cell_type": "code",
   "id": "initial_id",
   "metadata": {
    "collapsed": true,
    "ExecuteTime": {
     "end_time": "2025-09-23T08:33:23.020753Z",
     "start_time": "2025-09-23T08:33:23.018464Z"
    }
   },
   "source": [
    "def say_hello():\n",
    "    print(\"Hello, Efficacity!\")\n",
    "    print(\"Have a nice day\")"
   ],
   "outputs": [],
   "execution_count": 13
  },
  {
   "metadata": {
    "ExecuteTime": {
     "end_time": "2025-09-23T08:33:27.776386Z",
     "start_time": "2025-09-23T08:33:27.774485Z"
    }
   },
   "cell_type": "code",
   "source": "print(say_hello())",
   "id": "8de45bd977f27831",
   "outputs": [
    {
     "name": "stdout",
     "output_type": "stream",
     "text": [
      "Hello, Efficacity!\n",
      "Have a nice day\n",
      "None\n"
     ]
    }
   ],
   "execution_count": 14
  },
  {
   "metadata": {
    "ExecuteTime": {
     "end_time": "2025-09-23T08:40:07.437906Z",
     "start_time": "2025-09-23T08:40:07.435901Z"
    }
   },
   "cell_type": "code",
   "source": [
    "def give_hello():\n",
    "    value = \"Give hello\"\n",
    "    return value"
   ],
   "id": "a978ea67a069faba",
   "outputs": [],
   "execution_count": 17
  },
  {
   "metadata": {
    "ExecuteTime": {
     "end_time": "2025-09-23T08:40:07.772619Z",
     "start_time": "2025-09-23T08:40:07.769380Z"
    }
   },
   "cell_type": "code",
   "source": "print(give_hello())",
   "id": "e56c3f96179bb6df",
   "outputs": [
    {
     "name": "stdout",
     "output_type": "stream",
     "text": [
      "Give hello\n"
     ]
    }
   ],
   "execution_count": 18
  },
  {
   "metadata": {
    "ExecuteTime": {
     "end_time": "2025-09-23T08:40:48.723946Z",
     "start_time": "2025-09-23T08:40:48.722197Z"
    }
   },
   "cell_type": "code",
   "source": [
    "def say_hello_to(name:str):\n",
    "    print(\"Hello\", name)\n"
   ],
   "id": "fceef50a2e4db83",
   "outputs": [],
   "execution_count": 19
  },
  {
   "metadata": {
    "ExecuteTime": {
     "end_time": "2025-09-23T08:41:28.857289Z",
     "start_time": "2025-09-23T08:41:28.855449Z"
    }
   },
   "cell_type": "code",
   "source": "say_hello_to(\"Efficacity\")",
   "id": "50343f4a0fe1dec3",
   "outputs": [
    {
     "name": "stdout",
     "output_type": "stream",
     "text": [
      "Hello Efficacity\n"
     ]
    }
   ],
   "execution_count": 22
  },
  {
   "metadata": {},
   "cell_type": "code",
   "outputs": [],
   "execution_count": null,
   "source": "",
   "id": "aca051a13d207116"
  }
 ],
 "metadata": {
  "kernelspec": {
   "display_name": "Python 3",
   "language": "python",
   "name": "python3"
  },
  "language_info": {
   "codemirror_mode": {
    "name": "ipython",
    "version": 2
   },
   "file_extension": ".py",
   "mimetype": "text/x-python",
   "name": "python",
   "nbconvert_exporter": "python",
   "pygments_lexer": "ipython2",
   "version": "2.7.6"
  }
 },
 "nbformat": 4,
 "nbformat_minor": 5
}
