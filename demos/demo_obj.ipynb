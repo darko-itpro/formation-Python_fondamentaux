{
 "cells": [
  {
   "cell_type": "code",
   "id": "initial_id",
   "metadata": {
    "collapsed": true,
    "ExecuteTime": {
     "end_time": "2025-09-25T09:59:17.329026Z",
     "start_time": "2025-09-25T09:59:17.326498Z"
    }
   },
   "source": [
    "class MyClass:\n",
    "    pass"
   ],
   "outputs": [],
   "execution_count": 1
  },
  {
   "metadata": {
    "ExecuteTime": {
     "end_time": "2025-09-25T09:59:19.808986Z",
     "start_time": "2025-09-25T09:59:19.804155Z"
    }
   },
   "cell_type": "code",
   "source": "MyClass()",
   "id": "9fd254f59c8336e2",
   "outputs": [
    {
     "data": {
      "text/plain": [
       "<__main__.MyClass at 0x10a8c1400>"
      ]
     },
     "execution_count": 2,
     "metadata": {},
     "output_type": "execute_result"
    }
   ],
   "execution_count": 2
  },
  {
   "metadata": {
    "ExecuteTime": {
     "end_time": "2025-09-25T10:22:52.424888Z",
     "start_time": "2025-09-25T10:22:52.422530Z"
    }
   },
   "cell_type": "code",
   "source": [
    "class Training:\n",
    "    def __init__(self, subject:str, duration:int, available_seats:int=12):\n",
    "        self.subject = subject\n",
    "        self.duration = duration\n",
    "        self.available_seats = available_seats\n",
    "        self.students = []\n",
    "\n",
    "        if self.duration < 1:\n",
    "            raise ValueError(\"duration must be positive\")\n",
    "\n",
    "\n",
    "    def my_method(self, param):\n",
    "        self.param = param\n",
    "        print(param)"
   ],
   "id": "b44b885503454518",
   "outputs": [],
   "execution_count": 3
  },
  {
   "metadata": {
    "ExecuteTime": {
     "end_time": "2025-09-25T10:23:04.531184Z",
     "start_time": "2025-09-25T10:23:04.529296Z"
    }
   },
   "cell_type": "code",
   "source": [
    "t = Training()\n",
    "t.my_method(\"toto\")"
   ],
   "id": "fe058b3249f0eca3",
   "outputs": [
    {
     "name": "stdout",
     "output_type": "stream",
     "text": [
      "toto\n"
     ]
    }
   ],
   "execution_count": 5
  },
  {
   "metadata": {},
   "cell_type": "code",
   "outputs": [],
   "execution_count": null,
   "source": "",
   "id": "2682a9b48d0a83be"
  }
 ],
 "metadata": {
  "kernelspec": {
   "display_name": "Python 3",
   "language": "python",
   "name": "python3"
  },
  "language_info": {
   "codemirror_mode": {
    "name": "ipython",
    "version": 2
   },
   "file_extension": ".py",
   "mimetype": "text/x-python",
   "name": "python",
   "nbconvert_exporter": "python",
   "pygments_lexer": "ipython2",
   "version": "2.7.6"
  }
 },
 "nbformat": 4,
 "nbformat_minor": 5
}
