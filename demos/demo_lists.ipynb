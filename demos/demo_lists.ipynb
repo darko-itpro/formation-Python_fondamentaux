{
 "cells": [
  {
   "metadata": {},
   "cell_type": "markdown",
   "source": "# Les listes",
   "id": "2a38d9ee619341a5"
  },
  {
   "cell_type": "code",
   "id": "initial_id",
   "metadata": {
    "collapsed": true,
    "ExecuteTime": {
     "end_time": "2025-09-23T07:24:17.688165Z",
     "start_time": "2025-09-23T07:24:17.684413Z"
    }
   },
   "source": "type([])",
   "outputs": [
    {
     "data": {
      "text/plain": [
       "list"
      ]
     },
     "execution_count": 1,
     "metadata": {},
     "output_type": "execute_result"
    }
   ],
   "execution_count": 1
  },
  {
   "metadata": {
    "ExecuteTime": {
     "end_time": "2025-09-23T07:24:47.893943Z",
     "start_time": "2025-09-23T07:24:47.890999Z"
    }
   },
   "cell_type": "code",
   "source": "quizz = [\"Meaning of life\", 42]",
   "id": "fd6fa997921f24e4",
   "outputs": [],
   "execution_count": 3
  },
  {
   "metadata": {
    "ExecuteTime": {
     "end_time": "2025-09-23T07:24:57.360404Z",
     "start_time": "2025-09-23T07:24:57.357590Z"
    }
   },
   "cell_type": "code",
   "source": "len(quizz)",
   "id": "db4548e8b39c8a4b",
   "outputs": [
    {
     "data": {
      "text/plain": [
       "2"
      ]
     },
     "execution_count": 4,
     "metadata": {},
     "output_type": "execute_result"
    }
   ],
   "execution_count": 4
  },
  {
   "metadata": {
    "ExecuteTime": {
     "end_time": "2025-09-23T07:25:12.210423Z",
     "start_time": "2025-09-23T07:25:12.207518Z"
    }
   },
   "cell_type": "code",
   "source": "quizz[0]",
   "id": "663686e7cd2281d5",
   "outputs": [
    {
     "data": {
      "text/plain": [
       "'Meaning of life'"
      ]
     },
     "execution_count": 5,
     "metadata": {},
     "output_type": "execute_result"
    }
   ],
   "execution_count": 5
  },
  {
   "metadata": {
    "ExecuteTime": {
     "end_time": "2025-09-23T07:25:57.652858Z",
     "start_time": "2025-09-23T07:25:57.544547Z"
    }
   },
   "cell_type": "code",
   "source": "quizz[5]",
   "id": "aba2abf977359c72",
   "outputs": [
    {
     "ename": "IndexError",
     "evalue": "list index out of range",
     "output_type": "error",
     "traceback": [
      "\u001B[31m---------------------------------------------------------------------------\u001B[39m",
      "\u001B[31mIndexError\u001B[39m                                Traceback (most recent call last)",
      "\u001B[36mCell\u001B[39m\u001B[36m \u001B[39m\u001B[32mIn[6]\u001B[39m\u001B[32m, line 1\u001B[39m\n\u001B[32m----> \u001B[39m\u001B[32m1\u001B[39m \u001B[43mquizz\u001B[49m\u001B[43m[\u001B[49m\u001B[32;43m5\u001B[39;49m\u001B[43m]\u001B[49m\n",
      "\u001B[31mIndexError\u001B[39m: list index out of range"
     ]
    }
   ],
   "execution_count": 6
  },
  {
   "metadata": {
    "ExecuteTime": {
     "end_time": "2025-09-23T07:27:19.169651Z",
     "start_time": "2025-09-23T07:27:19.154232Z"
    }
   },
   "cell_type": "code",
   "source": "max(quizz)",
   "id": "7c3fedae0022079e",
   "outputs": [
    {
     "ename": "TypeError",
     "evalue": "'>' not supported between instances of 'int' and 'str'",
     "output_type": "error",
     "traceback": [
      "\u001B[31m---------------------------------------------------------------------------\u001B[39m",
      "\u001B[31mTypeError\u001B[39m                                 Traceback (most recent call last)",
      "\u001B[36mCell\u001B[39m\u001B[36m \u001B[39m\u001B[32mIn[7]\u001B[39m\u001B[32m, line 1\u001B[39m\n\u001B[32m----> \u001B[39m\u001B[32m1\u001B[39m \u001B[38;5;28;43mmax\u001B[39;49m\u001B[43m(\u001B[49m\u001B[43mquizz\u001B[49m\u001B[43m)\u001B[49m\n",
      "\u001B[31mTypeError\u001B[39m: '>' not supported between instances of 'int' and 'str'"
     ]
    }
   ],
   "execution_count": 7
  },
  {
   "metadata": {
    "ExecuteTime": {
     "end_time": "2025-09-23T07:28:19.916111Z",
     "start_time": "2025-09-23T07:28:19.914119Z"
    }
   },
   "cell_type": "code",
   "source": "quizz[1] = \"42\"",
   "id": "bd662d1a827b1c8b",
   "outputs": [],
   "execution_count": 8
  },
  {
   "metadata": {
    "ExecuteTime": {
     "end_time": "2025-09-23T07:28:22.419053Z",
     "start_time": "2025-09-23T07:28:22.416838Z"
    }
   },
   "cell_type": "code",
   "source": "quizz",
   "id": "bd98e6def3fbb78c",
   "outputs": [
    {
     "data": {
      "text/plain": [
       "['Meaning of life', '42']"
      ]
     },
     "execution_count": 9,
     "metadata": {},
     "output_type": "execute_result"
    }
   ],
   "execution_count": 9
  },
  {
   "metadata": {
    "ExecuteTime": {
     "end_time": "2025-09-23T07:34:28.064530Z",
     "start_time": "2025-09-23T07:34:28.062357Z"
    }
   },
   "cell_type": "code",
   "source": [
    "quizz = [\"Meaning of life\", 42]\n",
    "question = quizz[0]\n",
    "answer = quizz[1]\n"
   ],
   "id": "f6868fdfc853d931",
   "outputs": [],
   "execution_count": 10
  },
  {
   "metadata": {
    "ExecuteTime": {
     "end_time": "2025-09-23T07:36:56.165672Z",
     "start_time": "2025-09-23T07:36:56.142742Z"
    }
   },
   "cell_type": "code",
   "source": "question, answer = [\"Meaning of life\", 42, 7]",
   "id": "74eb345b2c4b3c4",
   "outputs": [
    {
     "ename": "ValueError",
     "evalue": "too many values to unpack (expected 2)",
     "output_type": "error",
     "traceback": [
      "\u001B[31m---------------------------------------------------------------------------\u001B[39m",
      "\u001B[31mValueError\u001B[39m                                Traceback (most recent call last)",
      "\u001B[36mCell\u001B[39m\u001B[36m \u001B[39m\u001B[32mIn[12]\u001B[39m\u001B[32m, line 1\u001B[39m\n\u001B[32m----> \u001B[39m\u001B[32m1\u001B[39m question, answer = [\u001B[33m\"\u001B[39m\u001B[33mMeaning of life\u001B[39m\u001B[33m\"\u001B[39m, \u001B[32m42\u001B[39m, \u001B[32m7\u001B[39m]\n",
      "\u001B[31mValueError\u001B[39m: too many values to unpack (expected 2)"
     ]
    }
   ],
   "execution_count": 12
  },
  {
   "metadata": {},
   "cell_type": "code",
   "outputs": [],
   "execution_count": null,
   "source": "hours, minutes = divmod(75, 60)",
   "id": "11eba940f6f3e280"
  },
  {
   "metadata": {
    "ExecuteTime": {
     "end_time": "2025-09-24T07:26:21.370622Z",
     "start_time": "2025-09-24T07:26:21.368481Z"
    }
   },
   "cell_type": "code",
   "source": "camelot = [\"Arthur\", \"Merlin\", \"Lancelot\", \"Robin\", \"Perceval\", \"Karadoc\"]",
   "id": "6eadd48310ea7732",
   "outputs": [],
   "execution_count": 1
  },
  {
   "metadata": {},
   "cell_type": "code",
   "outputs": [],
   "execution_count": null,
   "source": "camelot[-1]\n",
   "id": "d6bc8b3842c369ac"
  },
  {
   "metadata": {
    "ExecuteTime": {
     "end_time": "2025-09-24T07:27:34.780695Z",
     "start_time": "2025-09-24T07:27:34.776591Z"
    }
   },
   "cell_type": "code",
   "source": "camelot[2:4]",
   "id": "29cf89554599765a",
   "outputs": [
    {
     "data": {
      "text/plain": [
       "['Lancelot', 'Robin']"
      ]
     },
     "execution_count": 2,
     "metadata": {},
     "output_type": "execute_result"
    }
   ],
   "execution_count": 2
  },
  {
   "metadata": {
    "ExecuteTime": {
     "end_time": "2025-09-24T07:29:16.106051Z",
     "start_time": "2025-09-24T07:29:16.103331Z"
    }
   },
   "cell_type": "code",
   "source": "camelot[:2]",
   "id": "48291883753da5e6",
   "outputs": [
    {
     "data": {
      "text/plain": [
       "['Arthur', 'Merlin']"
      ]
     },
     "execution_count": 3,
     "metadata": {},
     "output_type": "execute_result"
    }
   ],
   "execution_count": 3
  },
  {
   "metadata": {
    "ExecuteTime": {
     "end_time": "2025-09-24T07:29:37.233517Z",
     "start_time": "2025-09-24T07:29:37.230978Z"
    }
   },
   "cell_type": "code",
   "source": "camelot[3:]",
   "id": "5a1b6cb81d96831e",
   "outputs": [
    {
     "data": {
      "text/plain": [
       "['Robin', 'Perceval', 'Karadoc']"
      ]
     },
     "execution_count": 4,
     "metadata": {},
     "output_type": "execute_result"
    }
   ],
   "execution_count": 4
  },
  {
   "metadata": {
    "ExecuteTime": {
     "end_time": "2025-09-24T07:29:54.579932Z",
     "start_time": "2025-09-24T07:29:54.577551Z"
    }
   },
   "cell_type": "code",
   "source": "camelot[-2:]",
   "id": "7ec13e1f6313606a",
   "outputs": [
    {
     "data": {
      "text/plain": [
       "['Perceval', 'Karadoc']"
      ]
     },
     "execution_count": 5,
     "metadata": {},
     "output_type": "execute_result"
    }
   ],
   "execution_count": 5
  },
  {
   "metadata": {
    "ExecuteTime": {
     "end_time": "2025-09-24T07:30:08.901168Z",
     "start_time": "2025-09-24T07:30:08.898784Z"
    }
   },
   "cell_type": "code",
   "source": "camelot[:]",
   "id": "d8e7abb904546c5e",
   "outputs": [
    {
     "data": {
      "text/plain": [
       "['Arthur', 'Merlin', 'Lancelot', 'Robin', 'Perceval', 'Karadoc']"
      ]
     },
     "execution_count": 6,
     "metadata": {},
     "output_type": "execute_result"
    }
   ],
   "execution_count": 6
  },
  {
   "metadata": {
    "ExecuteTime": {
     "end_time": "2025-09-24T07:30:23.082205Z",
     "start_time": "2025-09-24T07:30:23.079662Z"
    }
   },
   "cell_type": "code",
   "source": "camelot[::2]",
   "id": "e70b0907dc820031",
   "outputs": [
    {
     "data": {
      "text/plain": [
       "['Arthur', 'Lancelot', 'Perceval']"
      ]
     },
     "execution_count": 7,
     "metadata": {},
     "output_type": "execute_result"
    }
   ],
   "execution_count": 7
  },
  {
   "metadata": {
    "ExecuteTime": {
     "end_time": "2025-09-24T07:30:56.126788Z",
     "start_time": "2025-09-24T07:30:56.124334Z"
    }
   },
   "cell_type": "code",
   "source": "camelot[10:100]",
   "id": "5542a0ef313163e2",
   "outputs": [
    {
     "data": {
      "text/plain": [
       "[]"
      ]
     },
     "execution_count": 9,
     "metadata": {},
     "output_type": "execute_result"
    }
   ],
   "execution_count": 9
  },
  {
   "metadata": {
    "ExecuteTime": {
     "end_time": "2025-09-24T07:31:32.252282Z",
     "start_time": "2025-09-24T07:31:32.249864Z"
    }
   },
   "cell_type": "code",
   "source": "camelot[5:2:-1]",
   "id": "ac118a7e720e3bca",
   "outputs": [
    {
     "data": {
      "text/plain": [
       "['Karadoc', 'Perceval', 'Robin']"
      ]
     },
     "execution_count": 11,
     "metadata": {},
     "output_type": "execute_result"
    }
   ],
   "execution_count": 11
  },
  {
   "metadata": {
    "ExecuteTime": {
     "end_time": "2025-09-24T07:31:51.275891Z",
     "start_time": "2025-09-24T07:31:51.273106Z"
    }
   },
   "cell_type": "code",
   "source": "camelot[::-1]",
   "id": "7d758e5b9e5da7cc",
   "outputs": [
    {
     "data": {
      "text/plain": [
       "['Karadoc', 'Perceval', 'Robin', 'Lancelot', 'Merlin', 'Arthur']"
      ]
     },
     "execution_count": 12,
     "metadata": {},
     "output_type": "execute_result"
    }
   ],
   "execution_count": 12
  },
  {
   "metadata": {
    "ExecuteTime": {
     "end_time": "2025-09-24T07:33:07.272009Z",
     "start_time": "2025-09-24T07:33:07.269916Z"
    }
   },
   "cell_type": "code",
   "source": "camelot.append('Robin')",
   "id": "5e393b0778f307b7",
   "outputs": [],
   "execution_count": 14
  },
  {
   "metadata": {
    "ExecuteTime": {
     "end_time": "2025-09-24T07:33:18.418015Z",
     "start_time": "2025-09-24T07:33:18.415301Z"
    }
   },
   "cell_type": "code",
   "source": "camelot",
   "id": "670c9985fbddaef5",
   "outputs": [
    {
     "data": {
      "text/plain": [
       "['Arthur', 'Merlin', 'Lancelot', 'Robin', 'Perceval', 'Karadoc', 'Robin']"
      ]
     },
     "execution_count": 15,
     "metadata": {},
     "output_type": "execute_result"
    }
   ],
   "execution_count": 15
  },
  {
   "metadata": {
    "ExecuteTime": {
     "end_time": "2025-09-24T07:33:34.862550Z",
     "start_time": "2025-09-24T07:33:34.860144Z"
    }
   },
   "cell_type": "code",
   "source": "camelot.pop()",
   "id": "75ea007065543632",
   "outputs": [
    {
     "data": {
      "text/plain": [
       "'Robin'"
      ]
     },
     "execution_count": 16,
     "metadata": {},
     "output_type": "execute_result"
    }
   ],
   "execution_count": 16
  },
  {
   "metadata": {
    "ExecuteTime": {
     "end_time": "2025-09-24T07:33:39.443375Z",
     "start_time": "2025-09-24T07:33:39.441370Z"
    }
   },
   "cell_type": "code",
   "source": "camelot",
   "id": "6d3006d73aaf7a3c",
   "outputs": [
    {
     "data": {
      "text/plain": [
       "['Arthur', 'Merlin', 'Lancelot', 'Robin', 'Perceval', 'Karadoc']"
      ]
     },
     "execution_count": 17,
     "metadata": {},
     "output_type": "execute_result"
    }
   ],
   "execution_count": 17
  },
  {
   "metadata": {
    "ExecuteTime": {
     "end_time": "2025-09-24T07:35:19.157249Z",
     "start_time": "2025-09-24T07:35:19.154682Z"
    }
   },
   "cell_type": "code",
   "source": "camelot.pop(0)",
   "id": "64aa90eecdd3933d",
   "outputs": [
    {
     "data": {
      "text/plain": [
       "'Arthur'"
      ]
     },
     "execution_count": 18,
     "metadata": {},
     "output_type": "execute_result"
    }
   ],
   "execution_count": 18
  },
  {
   "metadata": {
    "ExecuteTime": {
     "end_time": "2025-09-24T07:36:17.323657Z",
     "start_time": "2025-09-24T07:36:17.321736Z"
    }
   },
   "cell_type": "code",
   "source": "camelot.insert(1, 'Robin')",
   "id": "9c92a76425da0469",
   "outputs": [],
   "execution_count": 19
  },
  {
   "metadata": {
    "ExecuteTime": {
     "end_time": "2025-09-24T07:36:19.633471Z",
     "start_time": "2025-09-24T07:36:19.631106Z"
    }
   },
   "cell_type": "code",
   "source": "camelot",
   "id": "4fefc7dcec263176",
   "outputs": [
    {
     "data": {
      "text/plain": [
       "['Merlin', 'Robin', 'Lancelot', 'Robin', 'Perceval', 'Karadoc']"
      ]
     },
     "execution_count": 20,
     "metadata": {},
     "output_type": "execute_result"
    }
   ],
   "execution_count": 20
  },
  {
   "metadata": {
    "ExecuteTime": {
     "end_time": "2025-09-24T07:36:43.230140Z",
     "start_time": "2025-09-24T07:36:43.228387Z"
    }
   },
   "cell_type": "code",
   "source": "camelot = ['Arthur', 'Merlin', 'Lancelot', 'Robin']",
   "id": "cd89d77b898b5327",
   "outputs": [],
   "execution_count": 21
  },
  {
   "metadata": {
    "ExecuteTime": {
     "end_time": "2025-09-24T07:37:05.292423Z",
     "start_time": "2025-09-24T07:37:05.290732Z"
    }
   },
   "cell_type": "code",
   "source": "camelot.append([\"Perceval\", \"Karadoc\"])",
   "id": "9097993ce4b6efb",
   "outputs": [],
   "execution_count": 22
  },
  {
   "metadata": {
    "ExecuteTime": {
     "end_time": "2025-09-24T07:37:10.849362Z",
     "start_time": "2025-09-24T07:37:10.846833Z"
    }
   },
   "cell_type": "code",
   "source": "camelot",
   "id": "83a10b14bab88e26",
   "outputs": [
    {
     "data": {
      "text/plain": [
       "['Arthur', 'Merlin', 'Lancelot', 'Robin', ['Perceval', 'Karadoc']]"
      ]
     },
     "execution_count": 23,
     "metadata": {},
     "output_type": "execute_result"
    }
   ],
   "execution_count": 23
  },
  {
   "metadata": {
    "ExecuteTime": {
     "end_time": "2025-09-24T07:37:22.057718Z",
     "start_time": "2025-09-24T07:37:22.056165Z"
    }
   },
   "cell_type": "code",
   "source": "camelot = ['Arthur', 'Merlin', 'Lancelot', 'Robin']",
   "id": "1c3debc462d34306",
   "outputs": [],
   "execution_count": 24
  },
  {
   "metadata": {
    "ExecuteTime": {
     "end_time": "2025-09-24T07:37:39.762613Z",
     "start_time": "2025-09-24T07:37:39.761016Z"
    }
   },
   "cell_type": "code",
   "source": "camelot.extend([\"Perceval\", \"Karadoc\"])",
   "id": "2e7dcf86ea2ad3ca",
   "outputs": [],
   "execution_count": 25
  },
  {
   "metadata": {
    "ExecuteTime": {
     "end_time": "2025-09-24T07:37:47.055936Z",
     "start_time": "2025-09-24T07:37:47.053355Z"
    }
   },
   "cell_type": "code",
   "source": "camelot",
   "id": "14e7b82f53d85e27",
   "outputs": [
    {
     "data": {
      "text/plain": [
       "['Arthur', 'Merlin', 'Lancelot', 'Robin', 'Perceval', 'Karadoc']"
      ]
     },
     "execution_count": 27,
     "metadata": {},
     "output_type": "execute_result"
    }
   ],
   "execution_count": 27
  },
  {
   "metadata": {
    "ExecuteTime": {
     "end_time": "2025-09-24T07:38:16.414158Z",
     "start_time": "2025-09-24T07:38:16.412169Z"
    }
   },
   "cell_type": "code",
   "source": "camelot.extend(\"Merlin\")",
   "id": "79d1aaafb16f7b87",
   "outputs": [],
   "execution_count": 28
  },
  {
   "metadata": {
    "ExecuteTime": {
     "end_time": "2025-09-24T07:38:22.559855Z",
     "start_time": "2025-09-24T07:38:22.557180Z"
    }
   },
   "cell_type": "code",
   "source": "camelot",
   "id": "c2d0baf24633fd83",
   "outputs": [
    {
     "data": {
      "text/plain": [
       "['Arthur',\n",
       " 'Merlin',\n",
       " 'Lancelot',\n",
       " 'Robin',\n",
       " 'Perceval',\n",
       " 'Karadoc',\n",
       " 'M',\n",
       " 'e',\n",
       " 'r',\n",
       " 'l',\n",
       " 'i',\n",
       " 'n']"
      ]
     },
     "execution_count": 29,
     "metadata": {},
     "output_type": "execute_result"
    }
   ],
   "execution_count": 29
  },
  {
   "metadata": {
    "ExecuteTime": {
     "end_time": "2025-09-24T07:39:09.658124Z",
     "start_time": "2025-09-24T07:39:09.655867Z"
    }
   },
   "cell_type": "code",
   "source": "camelot = ['Karadoc', 'Perceval', 'Robin', 'Lancelot', 'Merlin', 'Arthur']",
   "id": "c4e3479cf024e984",
   "outputs": [],
   "execution_count": 30
  },
  {
   "metadata": {
    "ExecuteTime": {
     "end_time": "2025-09-24T07:39:48.958462Z",
     "start_time": "2025-09-24T07:39:48.956218Z"
    }
   },
   "cell_type": "code",
   "source": "camelot",
   "id": "83fee40ff7340c6e",
   "outputs": [
    {
     "data": {
      "text/plain": [
       "['Karadoc', 'Perceval', 'Robin', 'Lancelot', 'Merlin', 'Arthur']"
      ]
     },
     "execution_count": 31,
     "metadata": {},
     "output_type": "execute_result"
    }
   ],
   "execution_count": 31
  },
  {
   "metadata": {
    "ExecuteTime": {
     "end_time": "2025-09-24T07:40:28.241080Z",
     "start_time": "2025-09-24T07:40:28.239140Z"
    }
   },
   "cell_type": "code",
   "source": "camelot[:2] = [\"Arthur\", \"Merlin\", \"Tim\"]",
   "id": "b69912b32d557136",
   "outputs": [],
   "execution_count": 32
  },
  {
   "metadata": {
    "ExecuteTime": {
     "end_time": "2025-09-24T07:40:30.700616Z",
     "start_time": "2025-09-24T07:40:30.698107Z"
    }
   },
   "cell_type": "code",
   "source": "camelot",
   "id": "7dfc74f32f5b7307",
   "outputs": [
    {
     "data": {
      "text/plain": [
       "['Arthur', 'Merlin', 'Tim', 'Robin', 'Lancelot', 'Merlin', 'Arthur']"
      ]
     },
     "execution_count": 33,
     "metadata": {},
     "output_type": "execute_result"
    }
   ],
   "execution_count": 33
  },
  {
   "metadata": {},
   "cell_type": "code",
   "outputs": [],
   "execution_count": null,
   "source": "",
   "id": "500e98c11362fada"
  },
  {
   "metadata": {},
   "cell_type": "markdown",
   "source": "## Tri et idiomes",
   "id": "575f6627263216ac"
  },
  {
   "metadata": {
    "ExecuteTime": {
     "end_time": "2025-09-24T10:08:55.650836Z",
     "start_time": "2025-09-24T10:08:55.648711Z"
    }
   },
   "cell_type": "code",
   "source": "camelot = [\"Arthur\", \"Merlin\", \"Lancelot\", \"Robin\", \"Perceval\", \"Karadoc\"]",
   "id": "b63aa574c73e8f65",
   "outputs": [],
   "execution_count": 37
  },
  {
   "metadata": {
    "ExecuteTime": {
     "end_time": "2025-09-24T10:08:56.515634Z",
     "start_time": "2025-09-24T10:08:56.513789Z"
    }
   },
   "cell_type": "code",
   "source": "camelot.sort()",
   "id": "28a569c8a05f6088",
   "outputs": [],
   "execution_count": 38
  },
  {
   "metadata": {
    "ExecuteTime": {
     "end_time": "2025-09-24T10:08:56.863431Z",
     "start_time": "2025-09-24T10:08:56.860730Z"
    }
   },
   "cell_type": "code",
   "source": "camelot",
   "id": "94e857e7e91dee4e",
   "outputs": [
    {
     "data": {
      "text/plain": [
       "['Arthur', 'Karadoc', 'Lancelot', 'Merlin', 'Perceval', 'Robin']"
      ]
     },
     "execution_count": 39,
     "metadata": {},
     "output_type": "execute_result"
    }
   ],
   "execution_count": 39
  },
  {
   "metadata": {
    "ExecuteTime": {
     "end_time": "2025-09-24T10:09:21.178926Z",
     "start_time": "2025-09-24T10:09:21.177023Z"
    }
   },
   "cell_type": "code",
   "source": "camelot = [\"Arthur\", \"Merlin\", \"Lancelot\", \"Robin\", \"Perceval\", \"Karadoc\"]",
   "id": "32ef0b250cb1312a",
   "outputs": [],
   "execution_count": 40
  },
  {
   "metadata": {
    "ExecuteTime": {
     "end_time": "2025-09-24T10:09:49.440746Z",
     "start_time": "2025-09-24T10:09:49.438556Z"
    }
   },
   "cell_type": "code",
   "source": "sorted(camelot)",
   "id": "3702e1212958ed91",
   "outputs": [
    {
     "data": {
      "text/plain": [
       "['Arthur', 'Karadoc', 'Lancelot', 'Merlin', 'Perceval', 'Robin']"
      ]
     },
     "execution_count": 41,
     "metadata": {},
     "output_type": "execute_result"
    }
   ],
   "execution_count": 41
  },
  {
   "metadata": {
    "ExecuteTime": {
     "end_time": "2025-09-24T10:10:04.904106Z",
     "start_time": "2025-09-24T10:10:04.901725Z"
    }
   },
   "cell_type": "code",
   "source": "camelot",
   "id": "3ac0500035872516",
   "outputs": [
    {
     "data": {
      "text/plain": [
       "['Arthur', 'Merlin', 'Lancelot', 'Robin', 'Perceval', 'Karadoc']"
      ]
     },
     "execution_count": 42,
     "metadata": {},
     "output_type": "execute_result"
    }
   ],
   "execution_count": 42
  },
  {
   "metadata": {
    "ExecuteTime": {
     "end_time": "2025-09-24T10:11:39.045957Z",
     "start_time": "2025-09-24T10:11:39.043911Z"
    }
   },
   "cell_type": "code",
   "source": "\"toto\".upper()",
   "id": "2bb97c599390f781",
   "outputs": [
    {
     "data": {
      "text/plain": [
       "'TOTO'"
      ]
     },
     "execution_count": 43,
     "metadata": {},
     "output_type": "execute_result"
    }
   ],
   "execution_count": 43
  },
  {
   "metadata": {
    "ExecuteTime": {
     "end_time": "2025-09-24T10:11:53.307651Z",
     "start_time": "2025-09-24T10:11:53.305449Z"
    }
   },
   "cell_type": "code",
   "source": [
    "king = \"Arthur\"\n",
    "king.upper()"
   ],
   "id": "d4e6df32526c198a",
   "outputs": [
    {
     "data": {
      "text/plain": [
       "'ARTHUR'"
      ]
     },
     "execution_count": 44,
     "metadata": {},
     "output_type": "execute_result"
    }
   ],
   "execution_count": 44
  },
  {
   "metadata": {
    "ExecuteTime": {
     "end_time": "2025-09-24T10:11:55.684482Z",
     "start_time": "2025-09-24T10:11:55.682408Z"
    }
   },
   "cell_type": "code",
   "source": "king",
   "id": "58b85f10e5168bc9",
   "outputs": [
    {
     "data": {
      "text/plain": [
       "'Arthur'"
      ]
     },
     "execution_count": 45,
     "metadata": {},
     "output_type": "execute_result"
    }
   ],
   "execution_count": 45
  },
  {
   "metadata": {},
   "cell_type": "code",
   "outputs": [],
   "execution_count": null,
   "source": "",
   "id": "9b80e83f2451d96f"
  },
  {
   "metadata": {
    "ExecuteTime": {
     "end_time": "2025-09-25T14:15:11.264691Z",
     "start_time": "2025-09-25T14:15:11.261536Z"
    }
   },
   "cell_type": "code",
   "source": "camelot = [\"Arthur\", \"Merlin\", \"Lancelot\", \"Robin\", \"Perceval\", \"Karadoc\"]",
   "id": "53eb0e2df9872cd2",
   "outputs": [],
   "execution_count": 1
  },
  {
   "metadata": {
    "ExecuteTime": {
     "end_time": "2025-09-25T14:16:31.274974Z",
     "start_time": "2025-09-25T14:16:31.273028Z"
    }
   },
   "cell_type": "code",
   "source": "king, wizard, *knights, tavern = camelot",
   "id": "53b57ef18c80a855",
   "outputs": [],
   "execution_count": 5
  },
  {
   "metadata": {
    "ExecuteTime": {
     "end_time": "2025-09-25T14:16:32.112014Z",
     "start_time": "2025-09-25T14:16:32.109969Z"
    }
   },
   "cell_type": "code",
   "source": "knights",
   "id": "53505b8cb3167b2f",
   "outputs": [
    {
     "data": {
      "text/plain": [
       "['Lancelot', 'Robin', 'Perceval']"
      ]
     },
     "execution_count": 6,
     "metadata": {},
     "output_type": "execute_result"
    }
   ],
   "execution_count": 6
  },
  {
   "metadata": {
    "ExecuteTime": {
     "end_time": "2025-09-25T14:18:38.324101Z",
     "start_time": "2025-09-25T14:18:38.321663Z"
    }
   },
   "cell_type": "code",
   "source": [
    "fraction = (75, 60)\n",
    "divmod(*fraction)"
   ],
   "id": "9296c004c6537e5c",
   "outputs": [
    {
     "data": {
      "text/plain": [
       "(1, 15)"
      ]
     },
     "execution_count": 8,
     "metadata": {},
     "output_type": "execute_result"
    }
   ],
   "execution_count": 8
  },
  {
   "metadata": {
    "ExecuteTime": {
     "end_time": "2025-09-25T14:20:50.451460Z",
     "start_time": "2025-09-25T14:20:50.449356Z"
    }
   },
   "cell_type": "code",
   "source": [
    "def func(id, *args):\n",
    "    print(id)\n",
    "    print(args)"
   ],
   "id": "a91591d74b54f3af",
   "outputs": [],
   "execution_count": 16
  },
  {
   "metadata": {
    "ExecuteTime": {
     "end_time": "2025-09-25T14:21:11.836783Z",
     "start_time": "2025-09-25T14:21:11.822860Z"
    }
   },
   "cell_type": "code",
   "source": "func(\"toto\", 8, param=\"toto\")",
   "id": "62d0f821d436df4d",
   "outputs": [
    {
     "ename": "TypeError",
     "evalue": "func() got an unexpected keyword argument 'param'",
     "output_type": "error",
     "traceback": [
      "\u001B[31m---------------------------------------------------------------------------\u001B[39m",
      "\u001B[31mTypeError\u001B[39m                                 Traceback (most recent call last)",
      "\u001B[36mCell\u001B[39m\u001B[36m \u001B[39m\u001B[32mIn[20]\u001B[39m\u001B[32m, line 1\u001B[39m\n\u001B[32m----> \u001B[39m\u001B[32m1\u001B[39m \u001B[43mfunc\u001B[49m\u001B[43m(\u001B[49m\u001B[33;43m\"\u001B[39;49m\u001B[33;43mtoto\u001B[39;49m\u001B[33;43m\"\u001B[39;49m\u001B[43m,\u001B[49m\u001B[43m \u001B[49m\u001B[32;43m8\u001B[39;49m\u001B[43m,\u001B[49m\u001B[43m \u001B[49m\u001B[43mparam\u001B[49m\u001B[43m=\u001B[49m\u001B[33;43m\"\u001B[39;49m\u001B[33;43mtoto\u001B[39;49m\u001B[33;43m\"\u001B[39;49m\u001B[43m)\u001B[49m\n",
      "\u001B[31mTypeError\u001B[39m: func() got an unexpected keyword argument 'param'"
     ]
    }
   ],
   "execution_count": 20
  },
  {
   "metadata": {
    "ExecuteTime": {
     "end_time": "2025-09-25T14:21:47.703739Z",
     "start_time": "2025-09-25T14:21:47.702140Z"
    }
   },
   "cell_type": "code",
   "source": [
    "def kfunc(**kwargs):\n",
    "    print(kwargs)"
   ],
   "id": "f7395fa8b2bd60ab",
   "outputs": [],
   "execution_count": 21
  },
  {
   "metadata": {
    "ExecuteTime": {
     "end_time": "2025-09-25T14:22:07.351383Z",
     "start_time": "2025-09-25T14:22:07.349491Z"
    }
   },
   "cell_type": "code",
   "source": "kfunc(param=42)",
   "id": "1569823fc63955a0",
   "outputs": [
    {
     "name": "stdout",
     "output_type": "stream",
     "text": [
      "{'param': 42}\n"
     ]
    }
   ],
   "execution_count": 24
  },
  {
   "metadata": {
    "ExecuteTime": {
     "end_time": "2025-09-25T14:23:53.495642Z",
     "start_time": "2025-09-25T14:23:53.493729Z"
    }
   },
   "cell_type": "code",
   "source": [
    "params = {\"p2\": 42, \"p1\": 10}\n",
    "\n",
    "def f(p1, p2):\n",
    "    print(p1, p2)"
   ],
   "id": "ad45b14aa1fd907d",
   "outputs": [],
   "execution_count": 25
  },
  {
   "metadata": {
    "ExecuteTime": {
     "end_time": "2025-09-25T14:24:13.677866Z",
     "start_time": "2025-09-25T14:24:13.675839Z"
    }
   },
   "cell_type": "code",
   "source": "f(**params)",
   "id": "df0ead08b46cea17",
   "outputs": [
    {
     "name": "stdout",
     "output_type": "stream",
     "text": [
      "10 42\n"
     ]
    }
   ],
   "execution_count": 27
  },
  {
   "metadata": {},
   "cell_type": "code",
   "outputs": [],
   "execution_count": null,
   "source": "",
   "id": "6a61af6a4f2c829"
  }
 ],
 "metadata": {
  "kernelspec": {
   "display_name": "Python 3",
   "language": "python",
   "name": "python3"
  },
  "language_info": {
   "codemirror_mode": {
    "name": "ipython",
    "version": 2
   },
   "file_extension": ".py",
   "mimetype": "text/x-python",
   "name": "python",
   "nbconvert_exporter": "python",
   "pygments_lexer": "ipython2",
   "version": "2.7.6"
  }
 },
 "nbformat": 4,
 "nbformat_minor": 5
}
