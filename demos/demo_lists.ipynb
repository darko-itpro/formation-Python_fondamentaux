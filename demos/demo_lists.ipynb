{
 "cells": [
  {
   "metadata": {},
   "cell_type": "markdown",
   "source": "# Les listes",
   "id": "2a38d9ee619341a5"
  },
  {
   "cell_type": "code",
   "id": "initial_id",
   "metadata": {
    "collapsed": true,
    "ExecuteTime": {
     "end_time": "2025-09-23T07:24:17.688165Z",
     "start_time": "2025-09-23T07:24:17.684413Z"
    }
   },
   "source": "type([])",
   "outputs": [
    {
     "data": {
      "text/plain": [
       "list"
      ]
     },
     "execution_count": 1,
     "metadata": {},
     "output_type": "execute_result"
    }
   ],
   "execution_count": 1
  },
  {
   "metadata": {
    "ExecuteTime": {
     "end_time": "2025-09-23T07:24:47.893943Z",
     "start_time": "2025-09-23T07:24:47.890999Z"
    }
   },
   "cell_type": "code",
   "source": "quizz = [\"Meaning of life\", 42]",
   "id": "fd6fa997921f24e4",
   "outputs": [],
   "execution_count": 3
  },
  {
   "metadata": {
    "ExecuteTime": {
     "end_time": "2025-09-23T07:24:57.360404Z",
     "start_time": "2025-09-23T07:24:57.357590Z"
    }
   },
   "cell_type": "code",
   "source": "len(quizz)",
   "id": "db4548e8b39c8a4b",
   "outputs": [
    {
     "data": {
      "text/plain": [
       "2"
      ]
     },
     "execution_count": 4,
     "metadata": {},
     "output_type": "execute_result"
    }
   ],
   "execution_count": 4
  },
  {
   "metadata": {
    "ExecuteTime": {
     "end_time": "2025-09-23T07:25:12.210423Z",
     "start_time": "2025-09-23T07:25:12.207518Z"
    }
   },
   "cell_type": "code",
   "source": "quizz[0]",
   "id": "663686e7cd2281d5",
   "outputs": [
    {
     "data": {
      "text/plain": [
       "'Meaning of life'"
      ]
     },
     "execution_count": 5,
     "metadata": {},
     "output_type": "execute_result"
    }
   ],
   "execution_count": 5
  },
  {
   "metadata": {
    "ExecuteTime": {
     "end_time": "2025-09-23T07:25:57.652858Z",
     "start_time": "2025-09-23T07:25:57.544547Z"
    }
   },
   "cell_type": "code",
   "source": "quizz[5]",
   "id": "aba2abf977359c72",
   "outputs": [
    {
     "ename": "IndexError",
     "evalue": "list index out of range",
     "output_type": "error",
     "traceback": [
      "\u001B[31m---------------------------------------------------------------------------\u001B[39m",
      "\u001B[31mIndexError\u001B[39m                                Traceback (most recent call last)",
      "\u001B[36mCell\u001B[39m\u001B[36m \u001B[39m\u001B[32mIn[6]\u001B[39m\u001B[32m, line 1\u001B[39m\n\u001B[32m----> \u001B[39m\u001B[32m1\u001B[39m \u001B[43mquizz\u001B[49m\u001B[43m[\u001B[49m\u001B[32;43m5\u001B[39;49m\u001B[43m]\u001B[49m\n",
      "\u001B[31mIndexError\u001B[39m: list index out of range"
     ]
    }
   ],
   "execution_count": 6
  },
  {
   "metadata": {
    "ExecuteTime": {
     "end_time": "2025-09-23T07:27:19.169651Z",
     "start_time": "2025-09-23T07:27:19.154232Z"
    }
   },
   "cell_type": "code",
   "source": "max(quizz)",
   "id": "7c3fedae0022079e",
   "outputs": [
    {
     "ename": "TypeError",
     "evalue": "'>' not supported between instances of 'int' and 'str'",
     "output_type": "error",
     "traceback": [
      "\u001B[31m---------------------------------------------------------------------------\u001B[39m",
      "\u001B[31mTypeError\u001B[39m                                 Traceback (most recent call last)",
      "\u001B[36mCell\u001B[39m\u001B[36m \u001B[39m\u001B[32mIn[7]\u001B[39m\u001B[32m, line 1\u001B[39m\n\u001B[32m----> \u001B[39m\u001B[32m1\u001B[39m \u001B[38;5;28;43mmax\u001B[39;49m\u001B[43m(\u001B[49m\u001B[43mquizz\u001B[49m\u001B[43m)\u001B[49m\n",
      "\u001B[31mTypeError\u001B[39m: '>' not supported between instances of 'int' and 'str'"
     ]
    }
   ],
   "execution_count": 7
  },
  {
   "metadata": {
    "ExecuteTime": {
     "end_time": "2025-09-23T07:28:19.916111Z",
     "start_time": "2025-09-23T07:28:19.914119Z"
    }
   },
   "cell_type": "code",
   "source": "quizz[1] = \"42\"",
   "id": "bd662d1a827b1c8b",
   "outputs": [],
   "execution_count": 8
  },
  {
   "metadata": {
    "ExecuteTime": {
     "end_time": "2025-09-23T07:28:22.419053Z",
     "start_time": "2025-09-23T07:28:22.416838Z"
    }
   },
   "cell_type": "code",
   "source": "quizz",
   "id": "bd98e6def3fbb78c",
   "outputs": [
    {
     "data": {
      "text/plain": [
       "['Meaning of life', '42']"
      ]
     },
     "execution_count": 9,
     "metadata": {},
     "output_type": "execute_result"
    }
   ],
   "execution_count": 9
  },
  {
   "metadata": {
    "ExecuteTime": {
     "end_time": "2025-09-23T07:34:28.064530Z",
     "start_time": "2025-09-23T07:34:28.062357Z"
    }
   },
   "cell_type": "code",
   "source": [
    "quizz = [\"Meaning of life\", 42]\n",
    "question = quizz[0]\n",
    "answer = quizz[1]\n"
   ],
   "id": "f6868fdfc853d931",
   "outputs": [],
   "execution_count": 10
  },
  {
   "metadata": {
    "ExecuteTime": {
     "end_time": "2025-09-23T07:36:56.165672Z",
     "start_time": "2025-09-23T07:36:56.142742Z"
    }
   },
   "cell_type": "code",
   "source": "question, answer = [\"Meaning of life\", 42, 7]",
   "id": "74eb345b2c4b3c4",
   "outputs": [
    {
     "ename": "ValueError",
     "evalue": "too many values to unpack (expected 2)",
     "output_type": "error",
     "traceback": [
      "\u001B[31m---------------------------------------------------------------------------\u001B[39m",
      "\u001B[31mValueError\u001B[39m                                Traceback (most recent call last)",
      "\u001B[36mCell\u001B[39m\u001B[36m \u001B[39m\u001B[32mIn[12]\u001B[39m\u001B[32m, line 1\u001B[39m\n\u001B[32m----> \u001B[39m\u001B[32m1\u001B[39m question, answer = [\u001B[33m\"\u001B[39m\u001B[33mMeaning of life\u001B[39m\u001B[33m\"\u001B[39m, \u001B[32m42\u001B[39m, \u001B[32m7\u001B[39m]\n",
      "\u001B[31mValueError\u001B[39m: too many values to unpack (expected 2)"
     ]
    }
   ],
   "execution_count": 12
  },
  {
   "metadata": {},
   "cell_type": "code",
   "outputs": [],
   "execution_count": null,
   "source": "hours, minutes = divmod(75, 60)",
   "id": "11eba940f6f3e280"
  }
 ],
 "metadata": {
  "kernelspec": {
   "display_name": "Python 3",
   "language": "python",
   "name": "python3"
  },
  "language_info": {
   "codemirror_mode": {
    "name": "ipython",
    "version": 2
   },
   "file_extension": ".py",
   "mimetype": "text/x-python",
   "name": "python",
   "nbconvert_exporter": "python",
   "pygments_lexer": "ipython2",
   "version": "2.7.6"
  }
 },
 "nbformat": 4,
 "nbformat_minor": 5
}
