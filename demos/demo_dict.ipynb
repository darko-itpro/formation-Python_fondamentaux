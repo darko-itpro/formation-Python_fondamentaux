{
 "cells": [
  {
   "metadata": {},
   "cell_type": "markdown",
   "source": "# Dictionnaires",
   "id": "4df95e347bdd28bf"
  },
  {
   "cell_type": "code",
   "id": "initial_id",
   "metadata": {
    "collapsed": true,
    "ExecuteTime": {
     "end_time": "2025-09-23T14:16:15.482204Z",
     "start_time": "2025-09-23T14:16:15.478340Z"
    }
   },
   "source": "type({})",
   "outputs": [
    {
     "data": {
      "text/plain": [
       "dict"
      ]
     },
     "execution_count": 1,
     "metadata": {},
     "output_type": "execute_result"
    }
   ],
   "execution_count": 1
  },
  {
   "metadata": {
    "ExecuteTime": {
     "end_time": "2025-09-23T14:18:03.919279Z",
     "start_time": "2025-09-23T14:18:03.916625Z"
    }
   },
   "cell_type": "code",
   "source": [
    "camelot = {\"king\":\"Arthur\", \"wizard\":\"Merlin\"}\n",
    "print(camelot)"
   ],
   "id": "ca28b3ac6e431410",
   "outputs": [
    {
     "name": "stdout",
     "output_type": "stream",
     "text": [
      "{'king': 'Arthur', 'wizard': 'Merlin'}\n"
     ]
    }
   ],
   "execution_count": 4
  },
  {
   "metadata": {
    "ExecuteTime": {
     "end_time": "2025-09-23T14:18:06.626947Z",
     "start_time": "2025-09-23T14:18:06.624345Z"
    }
   },
   "cell_type": "code",
   "source": "len(camelot)",
   "id": "4c2305ccc5967f02",
   "outputs": [
    {
     "data": {
      "text/plain": [
       "2"
      ]
     },
     "execution_count": 5,
     "metadata": {},
     "output_type": "execute_result"
    }
   ],
   "execution_count": 5
  },
  {
   "metadata": {
    "ExecuteTime": {
     "end_time": "2025-09-23T14:18:43.472705Z",
     "start_time": "2025-09-23T14:18:43.469713Z"
    }
   },
   "cell_type": "code",
   "source": "\"Arthur\" in camelot",
   "id": "e9b141809b5ab49",
   "outputs": [
    {
     "data": {
      "text/plain": [
       "False"
      ]
     },
     "execution_count": 7,
     "metadata": {},
     "output_type": "execute_result"
    }
   ],
   "execution_count": 7
  },
  {
   "metadata": {
    "ExecuteTime": {
     "end_time": "2025-09-23T14:19:15.784125Z",
     "start_time": "2025-09-23T14:19:15.693013Z"
    }
   },
   "cell_type": "code",
   "source": "camelot[\"queen\"]",
   "id": "ced019a7779df143",
   "outputs": [
    {
     "ename": "KeyError",
     "evalue": "'queen'",
     "output_type": "error",
     "traceback": [
      "\u001B[31m---------------------------------------------------------------------------\u001B[39m",
      "\u001B[31mKeyError\u001B[39m                                  Traceback (most recent call last)",
      "\u001B[36mCell\u001B[39m\u001B[36m \u001B[39m\u001B[32mIn[9]\u001B[39m\u001B[32m, line 1\u001B[39m\n\u001B[32m----> \u001B[39m\u001B[32m1\u001B[39m \u001B[43mcamelot\u001B[49m\u001B[43m[\u001B[49m\u001B[33;43m\"\u001B[39;49m\u001B[33;43mqueen\u001B[39;49m\u001B[33;43m\"\u001B[39;49m\u001B[43m]\u001B[49m\n",
      "\u001B[31mKeyError\u001B[39m: 'queen'"
     ]
    }
   ],
   "execution_count": 9
  },
  {
   "metadata": {
    "ExecuteTime": {
     "end_time": "2025-09-23T14:19:54.366832Z",
     "start_time": "2025-09-23T14:19:54.363748Z"
    }
   },
   "cell_type": "code",
   "source": [
    "camelot[\"king\"] = \"Pendragon\"\n",
    "camelot"
   ],
   "id": "c9bfcf9f9f4c59b7",
   "outputs": [
    {
     "data": {
      "text/plain": [
       "{'king': 'Pendragon', 'wizard': 'Merlin'}"
      ]
     },
     "execution_count": 10,
     "metadata": {},
     "output_type": "execute_result"
    }
   ],
   "execution_count": 10
  },
  {
   "metadata": {
    "ExecuteTime": {
     "end_time": "2025-09-23T14:20:21.491644Z",
     "start_time": "2025-09-23T14:20:21.489842Z"
    }
   },
   "cell_type": "code",
   "source": "camelot['queen'] = \"Guenever\"",
   "id": "4c71edd3bfcee5ca",
   "outputs": [],
   "execution_count": 11
  },
  {
   "metadata": {
    "ExecuteTime": {
     "end_time": "2025-09-23T14:20:23.590946Z",
     "start_time": "2025-09-23T14:20:23.588495Z"
    }
   },
   "cell_type": "code",
   "source": "camelot",
   "id": "7ed43362eaa81406",
   "outputs": [
    {
     "data": {
      "text/plain": [
       "{'king': 'Pendragon', 'wizard': 'Merlin', 'queen': 'Guenever'}"
      ]
     },
     "execution_count": 12,
     "metadata": {},
     "output_type": "execute_result"
    }
   ],
   "execution_count": 12
  },
  {
   "metadata": {
    "ExecuteTime": {
     "end_time": "2025-09-23T14:22:26.522991Z",
     "start_time": "2025-09-23T14:22:26.521241Z"
    }
   },
   "cell_type": "code",
   "source": "del camelot[\"wizard\"]",
   "id": "9fba01dd6726828e",
   "outputs": [],
   "execution_count": 13
  },
  {
   "metadata": {
    "ExecuteTime": {
     "end_time": "2025-09-23T14:22:28.314740Z",
     "start_time": "2025-09-23T14:22:28.312175Z"
    }
   },
   "cell_type": "code",
   "source": "camelot",
   "id": "3a2064b7449fba6e",
   "outputs": [
    {
     "data": {
      "text/plain": [
       "{'king': 'Pendragon', 'queen': 'Guenever'}"
      ]
     },
     "execution_count": 14,
     "metadata": {},
     "output_type": "execute_result"
    }
   ],
   "execution_count": 14
  },
  {
   "metadata": {},
   "cell_type": "code",
   "outputs": [],
   "execution_count": null,
   "source": "",
   "id": "ebc9e382b9cc242d"
  }
 ],
 "metadata": {
  "kernelspec": {
   "display_name": "Python 3",
   "language": "python",
   "name": "python3"
  },
  "language_info": {
   "codemirror_mode": {
    "name": "ipython",
    "version": 2
   },
   "file_extension": ".py",
   "mimetype": "text/x-python",
   "name": "python",
   "nbconvert_exporter": "python",
   "pygments_lexer": "ipython2",
   "version": "2.7.6"
  }
 },
 "nbformat": 4,
 "nbformat_minor": 5
}
