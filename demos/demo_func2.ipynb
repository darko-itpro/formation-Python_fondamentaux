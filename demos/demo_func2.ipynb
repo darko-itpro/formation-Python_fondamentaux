{
 "cells": [
  {
   "metadata": {},
   "cell_type": "markdown",
   "source": "# Point sur les fonctions",
   "id": "d28a0a10c06c60ff"
  },
  {
   "cell_type": "code",
   "id": "initial_id",
   "metadata": {
    "collapsed": true,
    "ExecuteTime": {
     "end_time": "2025-09-25T12:07:30.552038Z",
     "start_time": "2025-09-25T12:07:30.549714Z"
    }
   },
   "source": [
    "i = 10\n",
    "print(i)\n"
   ],
   "outputs": [
    {
     "name": "stdout",
     "output_type": "stream",
     "text": [
      "10\n"
     ]
    }
   ],
   "execution_count": 2
  },
  {
   "metadata": {
    "ExecuteTime": {
     "end_time": "2025-09-25T12:07:43.737798Z",
     "start_time": "2025-09-25T12:07:43.736152Z"
    }
   },
   "cell_type": "code",
   "source": [
    "def func():\n",
    "    return 42"
   ],
   "id": "154d585735e21cdb",
   "outputs": [],
   "execution_count": 3
  },
  {
   "metadata": {
    "ExecuteTime": {
     "end_time": "2025-09-25T12:08:45.960649Z",
     "start_time": "2025-09-25T12:08:45.958554Z"
    }
   },
   "cell_type": "code",
   "source": "val = func",
   "id": "34bea4d4c215269f",
   "outputs": [],
   "execution_count": 6
  },
  {
   "metadata": {
    "ExecuteTime": {
     "end_time": "2025-09-25T12:10:15.911835Z",
     "start_time": "2025-09-25T12:10:15.909753Z"
    }
   },
   "cell_type": "code",
   "source": "val()",
   "id": "58c6840677682aeb",
   "outputs": [
    {
     "data": {
      "text/plain": [
       "42"
      ]
     },
     "execution_count": 8,
     "metadata": {},
     "output_type": "execute_result"
    }
   ],
   "execution_count": 8
  },
  {
   "metadata": {
    "ExecuteTime": {
     "end_time": "2025-09-25T12:14:43.550255Z",
     "start_time": "2025-09-25T12:14:43.548409Z"
    }
   },
   "cell_type": "code",
   "source": [
    "i = 10\n",
    "print(i)\n"
   ],
   "id": "a8e1a25133fb9c1a",
   "outputs": [
    {
     "name": "stdout",
     "output_type": "stream",
     "text": [
      "10\n"
     ]
    }
   ],
   "execution_count": 9
  },
  {
   "metadata": {
    "ExecuteTime": {
     "end_time": "2025-09-25T12:14:56.613605Z",
     "start_time": "2025-09-25T12:14:56.611184Z"
    }
   },
   "cell_type": "code",
   "source": "print = 42",
   "id": "8b27c4199e385cd5",
   "outputs": [],
   "execution_count": 10
  },
  {
   "metadata": {
    "ExecuteTime": {
     "end_time": "2025-09-25T12:16:00.697922Z",
     "start_time": "2025-09-25T12:16:00.696283Z"
    }
   },
   "cell_type": "code",
   "source": "print(i)",
   "id": "df83d8ea154aacde",
   "outputs": [
    {
     "name": "stdout",
     "output_type": "stream",
     "text": [
      "10\n"
     ]
    }
   ],
   "execution_count": 14
  },
  {
   "metadata": {
    "ExecuteTime": {
     "end_time": "2025-09-25T12:15:12.594568Z",
     "start_time": "2025-09-25T12:15:12.591901Z"
    }
   },
   "cell_type": "code",
   "source": "print",
   "id": "7d1a6ab432773e6",
   "outputs": [
    {
     "data": {
      "text/plain": [
       "42"
      ]
     },
     "execution_count": 12,
     "metadata": {},
     "output_type": "execute_result"
    }
   ],
   "execution_count": 12
  },
  {
   "metadata": {
    "ExecuteTime": {
     "end_time": "2025-09-25T12:16:05.359268Z",
     "start_time": "2025-09-25T12:16:05.339017Z"
    }
   },
   "cell_type": "code",
   "source": "del print",
   "id": "2dac4af076c229a8",
   "outputs": [
    {
     "ename": "NameError",
     "evalue": "name 'print' is not defined",
     "output_type": "error",
     "traceback": [
      "\u001B[31m---------------------------------------------------------------------------\u001B[39m",
      "\u001B[31mNameError\u001B[39m                                 Traceback (most recent call last)",
      "\u001B[36mCell\u001B[39m\u001B[36m \u001B[39m\u001B[32mIn[15]\u001B[39m\u001B[32m, line 1\u001B[39m\n\u001B[32m----> \u001B[39m\u001B[32m1\u001B[39m \u001B[38;5;28;01mdel\u001B[39;00m \u001B[38;5;28;43mprint\u001B[39;49m\n",
      "\u001B[31mNameError\u001B[39m: name 'print' is not defined"
     ]
    }
   ],
   "execution_count": 15
  },
  {
   "metadata": {},
   "cell_type": "code",
   "outputs": [],
   "execution_count": null,
   "source": "",
   "id": "a2de571b55b95578"
  }
 ],
 "metadata": {
  "kernelspec": {
   "display_name": "Python 3",
   "language": "python",
   "name": "python3"
  },
  "language_info": {
   "codemirror_mode": {
    "name": "ipython",
    "version": 2
   },
   "file_extension": ".py",
   "mimetype": "text/x-python",
   "name": "python",
   "nbconvert_exporter": "python",
   "pygments_lexer": "ipython2",
   "version": "2.7.6"
  }
 },
 "nbformat": 4,
 "nbformat_minor": 5
}
