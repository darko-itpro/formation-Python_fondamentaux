{
 "cells": [
  {
   "metadata": {},
   "cell_type": "markdown",
   "source": "# N-uplets",
   "id": "aa5c886b1ba7002d"
  },
  {
   "cell_type": "code",
   "id": "initial_id",
   "metadata": {
    "collapsed": true,
    "ExecuteTime": {
     "end_time": "2025-09-24T09:47:30.613468Z",
     "start_time": "2025-09-24T09:47:30.610804Z"
    }
   },
   "source": "season = (2, [\"premier\", \"deuxième\"])",
   "outputs": [],
   "execution_count": 1
  },
  {
   "metadata": {
    "ExecuteTime": {
     "end_time": "2025-09-24T09:47:42.902001Z",
     "start_time": "2025-09-24T09:47:42.814835Z"
    }
   },
   "cell_type": "code",
   "source": "season[0] = 1",
   "id": "cdc4ebbff339f72d",
   "outputs": [
    {
     "ename": "TypeError",
     "evalue": "'tuple' object does not support item assignment",
     "output_type": "error",
     "traceback": [
      "\u001B[31m---------------------------------------------------------------------------\u001B[39m",
      "\u001B[31mTypeError\u001B[39m                                 Traceback (most recent call last)",
      "\u001B[36mCell\u001B[39m\u001B[36m \u001B[39m\u001B[32mIn[2]\u001B[39m\u001B[32m, line 1\u001B[39m\n\u001B[32m----> \u001B[39m\u001B[32m1\u001B[39m \u001B[43mseason\u001B[49m\u001B[43m[\u001B[49m\u001B[32;43m0\u001B[39;49m\u001B[43m]\u001B[49m = \u001B[32m1\u001B[39m\n",
      "\u001B[31mTypeError\u001B[39m: 'tuple' object does not support item assignment"
     ]
    }
   ],
   "execution_count": 2
  },
  {
   "metadata": {
    "ExecuteTime": {
     "end_time": "2025-09-24T09:48:00.393111Z",
     "start_time": "2025-09-24T09:48:00.391457Z"
    }
   },
   "cell_type": "code",
   "source": "season[1].append('trois')",
   "id": "a2f69b85fa2f5757",
   "outputs": [],
   "execution_count": 4
  },
  {
   "metadata": {
    "ExecuteTime": {
     "end_time": "2025-09-24T09:48:02.847395Z",
     "start_time": "2025-09-24T09:48:02.845185Z"
    }
   },
   "cell_type": "code",
   "source": "season",
   "id": "956e474cd9edb466",
   "outputs": [
    {
     "data": {
      "text/plain": [
       "(2, ['premier', 'deuxième', 'trois'])"
      ]
     },
     "execution_count": 5,
     "metadata": {},
     "output_type": "execute_result"
    }
   ],
   "execution_count": 5
  },
  {
   "metadata": {
    "ExecuteTime": {
     "end_time": "2025-09-24T09:49:57.717276Z",
     "start_time": "2025-09-24T09:49:57.715257Z"
    }
   },
   "cell_type": "code",
   "source": "val = 1, 2, 3",
   "id": "635fbe1a173fbb01",
   "outputs": [],
   "execution_count": 10
  },
  {
   "metadata": {
    "ExecuteTime": {
     "end_time": "2025-09-24T09:49:58.020350Z",
     "start_time": "2025-09-24T09:49:58.017919Z"
    }
   },
   "cell_type": "code",
   "source": "type(val)",
   "id": "5d5f98cceccb1e62",
   "outputs": [
    {
     "data": {
      "text/plain": [
       "tuple"
      ]
     },
     "execution_count": 11,
     "metadata": {},
     "output_type": "execute_result"
    }
   ],
   "execution_count": 11
  },
  {
   "metadata": {
    "ExecuteTime": {
     "end_time": "2025-09-24T09:50:03.311042Z",
     "start_time": "2025-09-24T09:50:03.309328Z"
    }
   },
   "cell_type": "code",
   "source": "val = 1,",
   "id": "4e046a2b08acbf4c",
   "outputs": [],
   "execution_count": 12
  },
  {
   "metadata": {
    "ExecuteTime": {
     "end_time": "2025-09-24T09:50:04.633560Z",
     "start_time": "2025-09-24T09:50:04.630834Z"
    }
   },
   "cell_type": "code",
   "source": "type(val)",
   "id": "5f029a090be6993d",
   "outputs": [
    {
     "data": {
      "text/plain": [
       "tuple"
      ]
     },
     "execution_count": 13,
     "metadata": {},
     "output_type": "execute_result"
    }
   ],
   "execution_count": 13
  },
  {
   "metadata": {
    "ExecuteTime": {
     "end_time": "2025-09-24T09:51:53.816147Z",
     "start_time": "2025-09-24T09:51:53.814354Z"
    }
   },
   "cell_type": "code",
   "source": [
    "def func():\n",
    "    return 1, 2, 3"
   ],
   "id": "3d4994c9388db095",
   "outputs": [],
   "execution_count": 14
  },
  {
   "metadata": {
    "ExecuteTime": {
     "end_time": "2025-09-24T09:52:08.845802Z",
     "start_time": "2025-09-24T09:52:08.844071Z"
    }
   },
   "cell_type": "code",
   "source": [
    "answer = \"Meaning of life\"\n",
    "question = 42"
   ],
   "id": "38f34800bd8e5412",
   "outputs": [],
   "execution_count": 15
  },
  {
   "metadata": {},
   "cell_type": "code",
   "outputs": [],
   "execution_count": null,
   "source": "answer, question = question, answer",
   "id": "5ccd1fa0ab8ed59b"
  }
 ],
 "metadata": {
  "kernelspec": {
   "display_name": "Python 3",
   "language": "python",
   "name": "python3"
  },
  "language_info": {
   "codemirror_mode": {
    "name": "ipython",
    "version": 2
   },
   "file_extension": ".py",
   "mimetype": "text/x-python",
   "name": "python",
   "nbconvert_exporter": "python",
   "pygments_lexer": "ipython2",
   "version": "2.7.6"
  }
 },
 "nbformat": 4,
 "nbformat_minor": 5
}
